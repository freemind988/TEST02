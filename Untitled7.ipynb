{
  "nbformat": 4,
  "nbformat_minor": 0,
  "metadata": {
    "colab": {
      "name": "Untitled7.ipynb",
      "provenance": [],
      "authorship_tag": "ABX9TyMNUJK5DSbaut+9zfAnQUsZ",
      "include_colab_link": true
    },
    "kernelspec": {
      "name": "python3",
      "display_name": "Python 3"
    },
    "language_info": {
      "name": "python"
    }
  },
  "cells": [
    {
      "cell_type": "markdown",
      "metadata": {
        "id": "view-in-github",
        "colab_type": "text"
      },
      "source": [
        "<a href=\"https://colab.research.google.com/github/freemind988/TEST02/blob/main/Untitled7.ipynb\" target=\"_parent\"><img src=\"https://colab.research.google.com/assets/colab-badge.svg\" alt=\"Open In Colab\"/></a>"
      ]
    },
    {
      "cell_type": "code",
      "execution_count": 3,
      "metadata": {
        "colab": {
          "base_uri": "https://localhost:8080/"
        },
        "id": "eCf43E9jltJp",
        "outputId": "0b95fb3a-f7be-49f9-bfc4-9f9580b8caa0"
      },
      "outputs": [
        {
          "output_type": "stream",
          "name": "stdout",
          "text": [
            "[[ 180 1196   46  119   44]\n",
            " [  39   40   72    9   24]]\n"
          ]
        }
      ],
      "source": [
        "import numpy as np\n",
        "\n",
        "# a1 = np.array([[2,3,5],[5,7,8]])\n",
        "# a2 = np.array([[1,2],[3,10],[2,6]])\n",
        "# print(np.multiply(a1,a2))\n",
        "\n",
        "a1 = np.array([[12,46,23,7,2],[3,5,8,3,6]])\n",
        "a2 = np.array([[15,26,2,17,22],[13,8,9,3,4]])\n",
        "print(np.multiply(a1,a2))\n"
      ]
    }
  ]
}